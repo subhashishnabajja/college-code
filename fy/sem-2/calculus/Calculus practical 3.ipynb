{
 "cells": [
  {
   "cell_type": "markdown",
   "id": "6ec51dba",
   "metadata": {},
   "source": [
    "# Calculus practical no 3\n",
    "**F093 / Subhashish Nabajja**"
   ]
  },
  {
   "cell_type": "code",
   "execution_count": 2,
   "id": "a7c19e8c",
   "metadata": {},
   "outputs": [],
   "source": [
    "f(x) = x^3 - 3*x + 2"
   ]
  },
  {
   "cell_type": "code",
   "execution_count": 3,
   "id": "6edc768c",
   "metadata": {},
   "outputs": [
    {
     "data": {
      "text/plain": [
       "[x == -2, x == 1]"
      ]
     },
     "execution_count": 3,
     "metadata": {},
     "output_type": "execute_result"
    }
   ],
   "source": [
    "solve(f(x) == 0, x)"
   ]
  },
  {
   "cell_type": "code",
   "execution_count": 5,
   "id": "7ac14fed",
   "metadata": {},
   "outputs": [
    {
     "data": {
      "text/plain": [
       "2"
      ]
     },
     "execution_count": 5,
     "metadata": {},
     "output_type": "execute_result"
    }
   ],
   "source": [
    "f(0)"
   ]
  },
  {
   "cell_type": "code",
   "execution_count": 6,
   "id": "ab6df829",
   "metadata": {},
   "outputs": [
    {
     "data": {
      "text/plain": [
       "x |--> +Infinity"
      ]
     },
     "execution_count": 6,
     "metadata": {},
     "output_type": "execute_result"
    }
   ],
   "source": [
    "lim(f, x=oo)"
   ]
  },
  {
   "cell_type": "code",
   "execution_count": 8,
   "id": "c34fa6e8",
   "metadata": {},
   "outputs": [
    {
     "data": {
      "text/plain": [
       "x |--> -Infinity"
      ]
     },
     "execution_count": 8,
     "metadata": {},
     "output_type": "execute_result"
    }
   ],
   "source": [
    "lim(f, x=-oo)"
   ]
  },
  {
   "cell_type": "code",
   "execution_count": 17,
   "id": "b7a99516",
   "metadata": {},
   "outputs": [
    {
     "data": {
      "text/plain": [
       "(x |--> 3*x^2 - 3, x |--> 6*x)"
      ]
     },
     "execution_count": 17,
     "metadata": {},
     "output_type": "execute_result"
    }
   ],
   "source": [
    "df(x) = derivative(f, x) \n",
    "d2f(x) = derivative(f, x, 2)\n",
    "df,d2f"
   ]
  },
  {
   "cell_type": "code",
   "execution_count": 18,
   "id": "338638d9",
   "metadata": {},
   "outputs": [
    {
     "data": {
      "text/plain": [
       "[x == -1, x == 1]"
      ]
     },
     "execution_count": 18,
     "metadata": {},
     "output_type": "execute_result"
    }
   ],
   "source": [
    "solve(df(x) == 0, x)"
   ]
  },
  {
   "cell_type": "code",
   "execution_count": 26,
   "id": "773e6872",
   "metadata": {},
   "outputs": [
    {
     "data": {
      "text/plain": [
       "(0.630000000000001, -0.570000000000000)"
      ]
     },
     "execution_count": 26,
     "metadata": {},
     "output_type": "execute_result"
    }
   ],
   "source": [
    "df(-1.1), df(-0.9)"
   ]
  },
  {
   "cell_type": "code",
   "execution_count": 44,
   "id": "b44f9dcf",
   "metadata": {},
   "outputs": [
    {
     "data": {
      "text/plain": [
       "4"
      ]
     },
     "execution_count": 44,
     "metadata": {},
     "output_type": "execute_result"
    }
   ],
   "source": [
    "f(-1)"
   ]
  },
  {
   "cell_type": "code",
   "execution_count": 27,
   "id": "cf8d0e49",
   "metadata": {},
   "outputs": [
    {
     "data": {
      "text/plain": [
       "(-0.570000000000000, 0.630000000000001)"
      ]
     },
     "execution_count": 27,
     "metadata": {},
     "output_type": "execute_result"
    }
   ],
   "source": [
    "df(0.9), df(1.1)"
   ]
  },
  {
   "cell_type": "code",
   "execution_count": 28,
   "id": "ebae4f91",
   "metadata": {},
   "outputs": [
    {
     "data": {
      "text/plain": [
       "[x == 0]"
      ]
     },
     "execution_count": 28,
     "metadata": {},
     "output_type": "execute_result"
    }
   ],
   "source": [
    "solve(d2f(x) == 0, x)"
   ]
  },
  {
   "cell_type": "code",
   "execution_count": 30,
   "id": "69507d7b",
   "metadata": {},
   "outputs": [
    {
     "data": {
      "text/plain": [
       "(-0.600000000000000, 0.600000000000000)"
      ]
     },
     "execution_count": 30,
     "metadata": {},
     "output_type": "execute_result"
    }
   ],
   "source": [
    "d2f(-0.1), d2f(0.1)"
   ]
  },
  {
   "cell_type": "code",
   "execution_count": 46,
   "id": "90988ff1",
   "metadata": {},
   "outputs": [
    {
     "data": {
      "image/png": "[encoded data removed]",
      "text/plain": [
       "Graphics object consisting of 2 graphics primitives"
      ]
     },
     "execution_count": 46,
     "metadata": {},
     "output_type": "execute_result"
    }
   ],
   "source": [
    "plot(f, xmin =-3, xmax = 3, ymin = -5, ymax = 5 ) + point([(-2,0), (1,0), (0,2), (-1,4), ], color = \"red\", size = 24)"
   ]
  },
  {
   "cell_type": "code",
   "execution_count": 48,
   "id": "459b0510",
   "metadata": {},
   "outputs": [],
   "source": [
    "f(x) = (x^2 - 1) / (x^3) "
   ]
  },
  {
   "cell_type": "code",
   "execution_count": 49,
   "id": "1d733f8c",
   "metadata": {},
   "outputs": [
    {
     "data": {
      "text/plain": [
       "[x == -1, x == 1]"
      ]
     },
     "execution_count": 49,
     "metadata": {},
     "output_type": "execute_result"
    }
   ],
   "source": [
    "solve(f(x) == 0, x)"
   ]
  },
  {
   "cell_type": "code",
   "execution_count": 57,
   "id": "4fc2455d",
   "metadata": {},
   "outputs": [
    {
     "data": {
      "text/plain": [
       "(x |--> 0, x |--> 0)"
      ]
     },
     "execution_count": 57,
     "metadata": {},
     "output_type": "execute_result"
    }
   ],
   "source": [
    "lim(f, x = oo), lim(f, x = -oo)"
   ]
  },
  {
   "cell_type": "code",
   "execution_count": 59,
   "id": "7107aa6a",
   "metadata": {},
   "outputs": [
    {
     "data": {
      "text/plain": [
       "(x |--> 2/x^2 - 3*(x^2 - 1)/x^4, x |--> -10/x^3 + 12*(x^2 - 1)/x^5)"
      ]
     },
     "execution_count": 59,
     "metadata": {},
     "output_type": "execute_result"
    }
   ],
   "source": [
    "df(x) = derivative(f, x)\n",
    "d2f(x) = derivative(f, x, 2)\n",
    "df, d2f"
   ]
  },
  {
   "cell_type": "code",
   "execution_count": 60,
   "id": "e2aec755",
   "metadata": {},
   "outputs": [
    {
     "data": {
      "text/plain": [
       "[x == -sqrt(3), x == sqrt(3)]"
      ]
     },
     "execution_count": 60,
     "metadata": {},
     "output_type": "execute_result"
    }
   ],
   "source": [
    "solve(df(x) == 0, x)"
   ]
  },
  {
   "cell_type": "code",
   "execution_count": 62,
   "id": "2a643a59",
   "metadata": {},
   "outputs": [
    {
     "data": {
      "text/plain": [
       "[x == -sqrt(6), x == sqrt(6)]"
      ]
     },
     "execution_count": 62,
     "metadata": {},
     "output_type": "execute_result"
    }
   ],
   "source": [
    "solve(d2f(x) == 0, x)"
   ]
  },
  {
   "cell_type": "code",
   "execution_count": 51,
   "id": "d6816c86",
   "metadata": {},
   "outputs": [],
   "source": [
    "# f(0) is undefined"
   ]
  },
  {
   "cell_type": "code",
   "execution_count": 56,
   "id": "d1f4698c",
   "metadata": {},
   "outputs": [
    {
     "data": {
      "image/png": "[encoded data removed]",
      "text/plain": [
       "Graphics object consisting of 2 graphics primitives"
      ]
     },
     "execution_count": 56,
     "metadata": {},
     "output_type": "execute_result"
    }
   ],
   "source": [
    "p1 = plot(f, (x, -3, -1))\n",
    "p2 = plot(f,(x, 1, 3))\n",
    "p1 + p2"
   ]
  }
 ],
 "metadata": {
  "kernelspec": {
   "display_name": "SageMath 9.5",
   "language": "sage",
   "name": "sagemath"
  },
  "language_info": {
   "codemirror_mode": {
    "name": "ipython",
    "version": 3
   },
   "file_extension": ".py",
   "mimetype": "text/x-python",
   "name": "python",
   "nbconvert_exporter": "python",
   "pygments_lexer": "ipython3",
   "version": "3.9.9"
  }
 },
 "nbformat": 4,
 "nbformat_minor": 5
}
