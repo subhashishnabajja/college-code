{
 "cells": [
  {
   "cell_type": "code",
   "execution_count": 136,
   "metadata": {},
   "outputs": [],
   "source": [
    "import datetime\n",
    "import time"
   ]
  },
  {
   "cell_type": "markdown",
   "metadata": {},
   "source": [
    "## Date"
   ]
  },
  {
   "cell_type": "code",
   "execution_count": 152,
   "metadata": {},
   "outputs": [
    {
     "name": "stdout",
     "output_type": "stream",
     "text": [
      "2022-02-28 2024-01-01\n"
     ]
    }
   ],
   "source": [
    "today = datetime.date.today()\n",
    "new_year = datetime.date(2024, 1, 1)\n",
    "print(today, new_year)"
   ]
  },
  {
   "cell_type": "markdown",
   "metadata": {},
   "source": [
    "## Time"
   ]
  },
  {
   "cell_type": "code",
   "execution_count": 153,
   "metadata": {},
   "outputs": [
    {
     "data": {
      "text/plain": [
       "datetime.time(12, 5, 5)"
      ]
     },
     "execution_count": 153,
     "metadata": {},
     "output_type": "execute_result"
    }
   ],
   "source": [
    "datetime.time(12,5,5)"
   ]
  },
  {
   "cell_type": "markdown",
   "metadata": {},
   "source": [
    "## Date time"
   ]
  },
  {
   "cell_type": "code",
   "execution_count": 154,
   "metadata": {},
   "outputs": [
    {
     "data": {
      "text/plain": [
       "datetime.datetime(2022, 2, 28, 22, 8, 51, 851894)"
      ]
     },
     "execution_count": 154,
     "metadata": {},
     "output_type": "execute_result"
    }
   ],
   "source": [
    "datetime.datetime.now()"
   ]
  },
  {
   "cell_type": "markdown",
   "metadata": {},
   "source": [
    "## Iterating over dates"
   ]
  },
  {
   "cell_type": "code",
   "execution_count": 156,
   "metadata": {},
   "outputs": [
    {
     "name": "stdout",
     "output_type": "stream",
     "text": [
      "2022-02-28\n",
      "2022-03-01\n",
      "2022-03-02\n",
      "2022-03-03\n",
      "2022-03-04\n",
      "2022-03-05\n",
      "2022-03-06\n"
     ]
    }
   ],
   "source": [
    "day_delta = datetime.timedelta(days = 1)\n",
    "start_date = datetime.date.today()\n",
    "end_date = start_date + 7 * daydelta\n",
    "\n",
    "for i in range((end_date - start_date).days):\n",
    "    print(start_date + i * day_delta)"
   ]
  },
  {
   "cell_type": "markdown",
   "metadata": {},
   "source": [
    "## Computing Time differences"
   ]
  },
  {
   "cell_type": "code",
   "execution_count": 158,
   "metadata": {},
   "outputs": [
    {
     "name": "stdout",
     "output_type": "stream",
     "text": [
      "6774 days, 22:14:10.612138\n"
     ]
    }
   ],
   "source": [
    "now = datetime.datetime.now()\n",
    "then = datetime.datetime(2003, 8, 13)\n",
    "print(now - then)"
   ]
  },
  {
   "cell_type": "markdown",
   "metadata": {},
   "source": [
    "## Delta"
   ]
  },
  {
   "cell_type": "code",
   "execution_count": 163,
   "metadata": {},
   "outputs": [
    {
     "name": "stdout",
     "output_type": "stream",
     "text": [
      "2022-03-30\n",
      "2022-01-29\n"
     ]
    }
   ],
   "source": [
    "# n days after date\n",
    "current_date = datetime.date.today()\n",
    "day_after = (current_date.today() + datetime.timedelta(days = 30 ))\n",
    "print(day_after)\n",
    "\n",
    "# n days before date\n",
    "day_before = (current_date - datetime.timedelta(days = 30))\n",
    "print(day_before)"
   ]
  },
  {
   "cell_type": "markdown",
   "metadata": {},
   "source": [
    "## Switching between time zones:"
   ]
  },
  {
   "cell_type": "code",
   "execution_count": 166,
   "metadata": {},
   "outputs": [
    {
     "name": "stdout",
     "output_type": "stream",
     "text": [
      "2022-02-28 16:53:34.440267\n",
      "2022-02-28 16:53:34.440267+00:00\n",
      "2022-02-28 22:23:34.440267+05:30\n"
     ]
    }
   ],
   "source": [
    "from dateutil import tz\n",
    "\n",
    "utc = tz.tzutc()\n",
    "local = tz.tzlocal()\n",
    "\n",
    "utc_now = datetime.datetime.utcnow()\n",
    "print(utc_now)\n",
    "\n",
    "utc_now = utc_now.replace(tzinfo = utc)\n",
    "print(utc_now)\n",
    "\n",
    "utc_now = utc_now.astimezone(local)\n",
    "print(utc_now)"
   ]
  },
  {
   "cell_type": "markdown",
   "metadata": {},
   "source": [
    "## Fuzzy datetime parsing"
   ]
  },
  {
   "cell_type": "code",
   "execution_count": 169,
   "metadata": {},
   "outputs": [
    {
     "data": {
      "text/plain": [
       "datetime.datetime(2019, 1, 1, 20, 21)"
      ]
     },
     "execution_count": 169,
     "metadata": {},
     "output_type": "execute_result"
    }
   ],
   "source": [
    "from dateutil.parser import parse\n",
    "\n",
    "dt = parse(\"Today is January 1, 2019 at 8:21:00PM\", fuzzy = True)\n",
    "dt"
   ]
  },
  {
   "cell_type": "markdown",
   "metadata": {},
   "source": [
    "## Stopping program execution temporarily\n"
   ]
  },
  {
   "cell_type": "code",
   "execution_count": 137,
   "metadata": {},
   "outputs": [
    {
     "name": "stdout",
     "output_type": "stream",
     "text": [
      "2022-02-28 21:51:38.687762 2022-02-28 21:51:41.188502\n"
     ]
    },
    {
     "data": {
      "text/plain": [
       "499260"
      ]
     },
     "execution_count": 137,
     "metadata": {},
     "output_type": "execute_result"
    }
   ],
   "source": [
    "time1 = datetime.datetime.now() \n",
    "time.sleep(2.5)\n",
    "time2 = datetime.datetime.now()\n",
    "\n",
    "print(time1, time2)\n",
    "delta = time1 - time2\n",
    "delta.microseconds"
   ]
  },
  {
   "cell_type": "markdown",
   "metadata": {},
   "source": [
    "## Knowing the execution time of a program"
   ]
  },
  {
   "cell_type": "code",
   "execution_count": 149,
   "metadata": {},
   "outputs": [],
   "source": [
    "def benchmark_wrapper(fn):\n",
    "    start_time = datetime.datetime.now()\n",
    "    fn()\n",
    "    \n",
    "    end_time = datetime.datetime.now()\n",
    "    delta = end_time - start_time\n",
    "    print(start_time, end_time)\n",
    "    print(\"The function took: {} seconds {} microseconds\".format(delta.seconds, delta.microseconds))"
   ]
  },
  {
   "cell_type": "code",
   "execution_count": 150,
   "metadata": {},
   "outputs": [
    {
     "name": "stdout",
     "output_type": "stream",
     "text": [
      "2022-02-28 21:53:29.234676 2022-02-28 21:53:29.242673\n",
      "The function took: 0 seconds 7997 microseconds\n"
     ]
    }
   ],
   "source": [
    "def main():\n",
    "    a = 0\n",
    "    for i in range(100000):\n",
    "        a += i * 1000\n",
    "\n",
    "benchmark_wrapper(main)"
   ]
  },
  {
   "cell_type": "code",
   "execution_count": 151,
   "metadata": {},
   "outputs": [
    {
     "name": "stdout",
     "output_type": "stream",
     "text": [
      "This is the first line of the program\n",
      "This line will be printed after 5 seconds\n"
     ]
    }
   ],
   "source": [
    "import time \n",
    "\n",
    "print(\"This is the first line of the program\")\n",
    "time.sleep(5)\n",
    "print(\"This line will be printed after 5 seconds\")"
   ]
  }
 ],
 "metadata": {
  "interpreter": {
   "hash": "d0969890e45fb791ec25b06aeeba69787018e4fe321e36b3538cbd9444f4c053"
  },
  "kernelspec": {
   "display_name": "Python 3.10.2 64-bit",
   "language": "python",
   "name": "python3"
  },
  "language_info": {
   "codemirror_mode": {
    "name": "ipython",
    "version": 3
   },
   "file_extension": ".py",
   "mimetype": "text/x-python",
   "name": "python",
   "nbconvert_exporter": "python",
   "pygments_lexer": "ipython3",
   "version": "3.10.2"
  },
  "orig_nbformat": 4
 },
 "nbformat": 4,
 "nbformat_minor": 2
}
