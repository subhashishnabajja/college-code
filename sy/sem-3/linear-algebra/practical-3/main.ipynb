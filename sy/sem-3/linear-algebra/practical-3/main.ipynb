{
 "cells": [
  {
   "cell_type": "code",
   "execution_count": 4,
   "metadata": {},
   "outputs": [],
   "source": [
    "import numpy as np\n",
    "np.set_printoptions(suppress=True)"
   ]
  },
  {
   "cell_type": "markdown",
   "metadata": {},
   "source": [
    "## Matrix addition, subtraction and multiplication"
   ]
  },
  {
   "cell_type": "code",
   "execution_count": 9,
   "metadata": {},
   "outputs": [
    {
     "name": "stdout",
     "output_type": "stream",
     "text": [
      "A = [[1 2 3]\n",
      " [4 5 6]\n",
      " [7 8 9]]\n",
      "B = [[10 11 12]\n",
      " [13 14 15]\n",
      " [16 17 18]]\n",
      "A+B = [[11 13 15]\n",
      " [17 19 21]\n",
      " [23 25 27]]\n",
      "A-B = [[-9 -9 -9]\n",
      " [-9 -9 -9]\n",
      " [-9 -9 -9]]\n",
      "A*B = [[ 10  22  36]\n",
      " [ 52  70  90]\n",
      " [112 136 162]]\n"
     ]
    }
   ],
   "source": [
    "matrix_one = np.array([[1,2,3],[4,5,6],[7,8,9]])\n",
    "matrix_two = np.array([[10,11,12],[13,14,15],[16,17,18]])\n",
    "\n",
    "print(f\"A = {matrix_one}\")\n",
    "print(f\"B = {matrix_two}\")\n",
    "print(f\"A+B = {matrix_one + matrix_two}\")\n",
    "print(f\"A-B = {matrix_one - matrix_two}\")\n",
    "print(f\"A*B = {matrix_one * matrix_two}\")\n"
   ]
  },
  {
   "cell_type": "markdown",
   "metadata": {},
   "source": [
    "## Checking if the matrix is invertible."
   ]
  },
  {
   "cell_type": "code",
   "execution_count": 10,
   "metadata": {},
   "outputs": [
    {
     "name": "stdout",
     "output_type": "stream",
     "text": [
      "Matrix M = \n",
      "[[1 2 1]\n",
      " [2 1 0]\n",
      " [3 0 2]]\n",
      "Determinant =  -8.999999999999998\n",
      "Inverse of Matrix M = \n",
      "[[-0.22222222  0.44444444  0.11111111]\n",
      " [ 0.44444444  0.11111111 -0.22222222]\n",
      " [ 0.33333333 -0.66666667  0.33333333]]\n"
     ]
    }
   ],
   "source": [
    "M=np.array([[1,2,1],[2,1,0],[3,0,2]])\n",
    "print(\"Matrix M = \")\n",
    "print(M)\n",
    "a=np.linalg.det(M)\n",
    "print(\"Determinant = \",a)\n",
    "if(a!=0):\n",
    "    i=np.linalg.inv(M)\n",
    "    print(\"Inverse of Matrix M = \")\n",
    "    print(i)\n",
    "else:\n",
    "    print(\"Matrix M is invertible\")"
   ]
  },
  {
   "cell_type": "code",
   "execution_count": 11,
   "metadata": {},
   "outputs": [
    {
     "name": "stdout",
     "output_type": "stream",
     "text": [
      "Matrix M = \n",
      "[[5 7]\n",
      " [2 3]]\n",
      "Determinant =  0.9999999999999987\n",
      "Inverse of Matrix M = \n",
      "[[ 3. -7.]\n",
      " [-2.  5.]]\n"
     ]
    }
   ],
   "source": [
    "M=np.array([[5,7],[2,3]])\n",
    "print(\"Matrix M = \")\n",
    "print(M)\n",
    "a=np.linalg.det(M)\n",
    "print(\"Determinant = \",a)\n",
    "if(a!=0):\n",
    "    i=np.linalg.inv(M)\n",
    "    print(\"Inverse of Matrix M = \")\n",
    "    print(i)\n",
    "else:\n",
    "    print(\"Matrix M is invertible\")"
   ]
  }
 ],
 "metadata": {
  "kernelspec": {
   "display_name": "Python 3.9.6 64-bit",
   "language": "python",
   "name": "python3"
  },
  "language_info": {
   "codemirror_mode": {
    "name": "ipython",
    "version": 3
   },
   "file_extension": ".py",
   "mimetype": "text/x-python",
   "name": "python",
   "nbconvert_exporter": "python",
   "pygments_lexer": "ipython3",
   "version": "3.9.6"
  },
  "orig_nbformat": 4,
  "vscode": {
   "interpreter": {
    "hash": "81794d4967e6c3204c66dcd87b604927b115b27c00565d3d43f05ba2f3a2cb0d"
   }
  }
 },
 "nbformat": 4,
 "nbformat_minor": 2
}
