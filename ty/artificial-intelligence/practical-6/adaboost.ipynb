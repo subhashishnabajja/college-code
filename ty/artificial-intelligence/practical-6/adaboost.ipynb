{
 "cells": [
  {
   "cell_type": "markdown",
   "metadata": {},
   "source": [
    "# AdaBoost Ensemble Learning"
   ]
  },
  {
   "cell_type": "markdown",
   "metadata": {},
   "source": [
    "## Loading the necessary libraries."
   ]
  },
  {
   "cell_type": "code",
   "execution_count": 1,
   "metadata": {},
   "outputs": [],
   "source": [
    "# Load libraries\n",
    "from sklearn.ensemble import AdaBoostClassifier\n",
    "from sklearn import datasets\n",
    "# Import train_test_split function\n",
    "from sklearn.model_selection import train_test_split\n",
    "#Import scikit-learn metrics module for accuracy calculation\n",
    "from sklearn import metrics"
   ]
  },
  {
   "cell_type": "markdown",
   "metadata": {},
   "source": [
    "## Loading the dataset"
   ]
  },
  {
   "cell_type": "code",
   "execution_count": 2,
   "metadata": {},
   "outputs": [],
   "source": [
    "b_cancer = datasets.load_breast_cancer()\n",
    "X = b_cancer.data\n",
    "y = b_cancer.target"
   ]
  },
  {
   "cell_type": "markdown",
   "metadata": {},
   "source": [
    "## Splitting the dataset into training and testing"
   ]
  },
  {
   "cell_type": "code",
   "execution_count": 3,
   "metadata": {},
   "outputs": [],
   "source": [
    "# Split dataset into training set and test set\n",
    "X_train, X_test, y_train, y_test = train_test_split(X, y, test_size=0.3) # 70% training and 30% test"
   ]
  },
  {
   "cell_type": "markdown",
   "metadata": {},
   "source": [
    "## Training the AdaBoostClassifier using `SVM` as the base classifier."
   ]
  },
  {
   "cell_type": "code",
   "execution_count": 8,
   "metadata": {},
   "outputs": [
    {
     "name": "stdout",
     "output_type": "stream",
     "text": [
      "Accuracy: 0.935672514619883\n"
     ]
    }
   ],
   "source": [
    "# Load libraries\n",
    "from sklearn.ensemble import AdaBoostClassifier\n",
    "\n",
    "# Import Support Vector Classifier\n",
    "from sklearn.svm import SVC\n",
    "\n",
    "#Import scikit-learn metrics module for accuracy calculation\n",
    "from sklearn import metrics\n",
    "svc=SVC(probability=True, kernel='linear')\n",
    "\n",
    "# Create adaboost classifer object\n",
    "abc =AdaBoostClassifier(n_estimators=50, estimator=svc,learning_rate=0.1)\n",
    "\n",
    "# Train Adaboost Classifer\n",
    "model = abc.fit(X_train, y_train)\n",
    "\n",
    "#Predict the response for test dataset\n",
    "y_pred = model.predict(X_test)\n",
    "\n",
    "\n",
    "# Model Accuracy, how often is the classifier correct?\n",
    "print(\"Accuracy:\",metrics.accuracy_score(y_test, y_pred))"
   ]
  },
  {
   "cell_type": "markdown",
   "metadata": {},
   "source": [
    "## Comparing each individual weak classifier"
   ]
  },
  {
   "cell_type": "code",
   "execution_count": 9,
   "metadata": {},
   "outputs": [],
   "source": [
    "individual_predictions = []\n",
    "\n",
    "# For each weak classifier\n",
    "for estimator in abc.estimators_:\n",
    "    y_pred_individual = estimator.predict(X_test)\n",
    "    individual_predictions.append(y_pred_individual)"
   ]
  },
  {
   "cell_type": "code",
   "execution_count": 12,
   "metadata": {},
   "outputs": [
    {
     "name": "stdout",
     "output_type": "stream",
     "text": [
      "Weak Classifier 1 Accuracy: 0.9239766081871345\n",
      "Weak Classifier 2 Accuracy: 0.9181286549707602\n",
      "Weak Classifier 3 Accuracy: 0.9239766081871345\n",
      "Weak Classifier 4 Accuracy: 0.9239766081871345\n",
      "Weak Classifier 5 Accuracy: 0.9239766081871345\n",
      "Weak Classifier 6 Accuracy: 0.9239766081871345\n",
      "Weak Classifier 7 Accuracy: 0.9239766081871345\n",
      "Weak Classifier 8 Accuracy: 0.9298245614035088\n",
      "Weak Classifier 9 Accuracy: 0.9181286549707602\n",
      "Weak Classifier 10 Accuracy: 0.9298245614035088\n",
      "Weak Classifier 11 Accuracy: 0.9064327485380117\n",
      "Weak Classifier 12 Accuracy: 0.9064327485380117\n",
      "Weak Classifier 13 Accuracy: 0.9064327485380117\n",
      "Weak Classifier 14 Accuracy: 0.9064327485380117\n",
      "Weak Classifier 15 Accuracy: 0.9064327485380117\n",
      "Weak Classifier 16 Accuracy: 0.9122807017543859\n",
      "Weak Classifier 17 Accuracy: 0.8421052631578947\n",
      "Weak Classifier 18 Accuracy: 0.8128654970760234\n",
      "Weak Classifier 19 Accuracy: 0.6608187134502924\n",
      "Weak Classifier 20 Accuracy: 0.38011695906432746\n",
      "Weak Classifier 21 Accuracy: 0.38011695906432746\n",
      "Weak Classifier 22 Accuracy: 0.38011695906432746\n",
      "Weak Classifier 23 Accuracy: 0.38011695906432746\n",
      "Weak Classifier 24 Accuracy: 0.38011695906432746\n",
      "Weak Classifier 25 Accuracy: 0.38011695906432746\n",
      "Weak Classifier 26 Accuracy: 0.38011695906432746\n",
      "Weak Classifier 27 Accuracy: 0.38011695906432746\n",
      "Weak Classifier 28 Accuracy: 0.38011695906432746\n",
      "Weak Classifier 29 Accuracy: 0.38011695906432746\n",
      "Weak Classifier 30 Accuracy: 0.38011695906432746\n",
      "Weak Classifier 31 Accuracy: 0.38011695906432746\n",
      "Weak Classifier 32 Accuracy: 0.38011695906432746\n",
      "Weak Classifier 33 Accuracy: 0.38011695906432746\n",
      "Weak Classifier 34 Accuracy: 0.38011695906432746\n",
      "Weak Classifier 35 Accuracy: 0.38011695906432746\n",
      "Weak Classifier 36 Accuracy: 0.38011695906432746\n",
      "Weak Classifier 37 Accuracy: 0.38011695906432746\n",
      "Weak Classifier 38 Accuracy: 0.38011695906432746\n",
      "Weak Classifier 39 Accuracy: 0.38011695906432746\n",
      "Weak Classifier 40 Accuracy: 0.38011695906432746\n",
      "Weak Classifier 41 Accuracy: 0.38011695906432746\n",
      "Weak Classifier 42 Accuracy: 0.38011695906432746\n",
      "Weak Classifier 43 Accuracy: 0.38011695906432746\n",
      "Weak Classifier 44 Accuracy: 0.38011695906432746\n",
      "Weak Classifier 45 Accuracy: 0.38011695906432746\n",
      "Weak Classifier 46 Accuracy: 0.38011695906432746\n",
      "Weak Classifier 47 Accuracy: 0.38011695906432746\n",
      "Weak Classifier 48 Accuracy: 0.38011695906432746\n",
      "Weak Classifier 49 Accuracy: 0.38011695906432746\n",
      "Weak Classifier 50 Accuracy: 0.38011695906432746\n"
     ]
    }
   ],
   "source": [
    "for i, y_pred_individual in enumerate(individual_predictions):\n",
    "    individual_accuracy = metrics.accuracy_score(y_test, y_pred_individual)\n",
    "    print(f\"Weak Classifier {i + 1} Accuracy:\", individual_accuracy)"
   ]
  }
 ],
 "metadata": {
  "kernelspec": {
   "display_name": "Python 3",
   "language": "python",
   "name": "python3"
  },
  "language_info": {
   "codemirror_mode": {
    "name": "ipython",
    "version": 3
   },
   "file_extension": ".py",
   "mimetype": "text/x-python",
   "name": "python",
   "nbconvert_exporter": "python",
   "pygments_lexer": "ipython3",
   "version": "3.11.5"
  },
  "orig_nbformat": 4
 },
 "nbformat": 4,
 "nbformat_minor": 2
}
